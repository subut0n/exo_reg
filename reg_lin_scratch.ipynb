{
 "cells": [
  {
   "cell_type": "markdown",
   "id": "410f3b48-e4d3-4572-a6f4-ca41367aa6cf",
   "metadata": {},
   "source": [
    "# Réalisez une régression linéaire sans utiliser de package python"
   ]
  },
  {
   "cell_type": "markdown",
   "id": "30766303-c6cf-45e3-bb53-0a52c92ad8db",
   "metadata": {},
   "source": [
    "Pour chaque question, aidez-vous des formules mathématiques vectorisées données\n",
    "\n",
    "https://towardsdatascience.com/vectorization-implementation-in-machine-learning-ca652920c55d"
   ]
  },
  {
   "cell_type": "markdown",
   "id": "21e7e6e5-a1f9-4c7e-9fa7-6e07677ffd2a",
   "metadata": {},
   "source": [
    "## Import des packages"
   ]
  },
  {
   "cell_type": "code",
   "execution_count": 23,
   "id": "0c6ff46c-7813-43ec-812c-44a05953d672",
   "metadata": {},
   "outputs": [],
   "source": [
    "import pandas as pd\n",
    "import numpy as np\n",
    "import matplotlib.pyplot as plt"
   ]
  },
  {
   "cell_type": "markdown",
   "id": "09737b0f-12e7-4f7e-8892-d2c684507b01",
   "metadata": {},
   "source": [
    "## Question 1 : implémenter la normalisation (centrage et réduction)"
   ]
  },
  {
   "cell_type": "markdown",
   "id": "e5d3cf8f-e937-429b-85d9-c40ac75cc23d",
   "metadata": {},
   "source": [
    "Formule de la standardisation\n",
    "\n",
    "![centrage_reduction](CR.png)"
   ]
  },
  {
   "cell_type": "code",
   "execution_count": 24,
   "id": "1e8316c8-f380-40f3-9f4b-7527095cc1a1",
   "metadata": {},
   "outputs": [],
   "source": [
    "## Coder Ici\n",
    "mu = []\n",
    "std = []\n",
    "\n",
    "def normalize(data):\n",
    "\tfor i in range(0,data.shape[1]-1):\n",
    "\t\tmu.append(np.mean(data[:,i]))\n",
    "\t\tstd.append(np.std(data[:,i]))\n",
    "\t\tdata[:,i] = ((data[:,i] - mu[i] )/ std[i])"
   ]
  },
  {
   "cell_type": "code",
   "execution_count": 25,
   "id": "fdad9597-6d71-4278-bde3-a5bc974499e4",
   "metadata": {},
   "outputs": [
    {
     "name": "stdout",
     "output_type": "stream",
     "text": [
      "[3.3333333333333335, 5.666666666666667]\n",
      "[1.247219128924647, 2.0548046676563256]\n"
     ]
    }
   ],
   "source": [
    "## Test\n",
    "test_data = np.array([[2,3,5],\n",
    "                     [5,6,9],\n",
    "                     [3,8,4]])\n",
    "normalize(test_data)\n",
    "assert (test_data.round(1) == np.array([\n",
    "    [-1, -1,  5], \n",
    "    [ 1,  0,  9], \n",
    "    [ 0,  1,  4]])).all()\n",
    "\n",
    "# print(test_data)\n",
    "print(mu)\n",
    "print(std)"
   ]
  },
  {
   "cell_type": "markdown",
   "id": "fd401f08-a40c-4462-8343-41ec0fc722ca",
   "metadata": {},
   "source": [
    "### Import des données normalisées"
   ]
  },
  {
   "cell_type": "code",
   "execution_count": 26,
   "id": "25900bfe-d44c-48e4-91bd-dd8cc9118e15",
   "metadata": {},
   "outputs": [
    {
     "data": {
      "image/png": "[encoded data removed]",
      "text/plain": [
       "<Figure size 432x288 with 1 Axes>"
      ]
     },
     "metadata": {
      "needs_background": "light"
     },
     "output_type": "display_data"
    }
   ],
   "source": [
    "def plot_data(x, y):\n",
    "\tplt.xlabel('house size')\n",
    "\tplt.ylabel('price')\n",
    "\tplt.plot(x[:,0], y, 'bo')\n",
    "\tplt.show()\n",
    "\n",
    "def load_data(filename):\n",
    "\tdf = pd.read_csv(filename, sep=\",\", index_col=False)\n",
    "\tdf.columns = [\"housesize\", \"rooms\", \"price\"]\n",
    "\tdata = np.array(df, dtype=float)\n",
    "\tplot_data(data[:,:2], data[:, -1])\n",
    "\tnormalize(data)\n",
    "\treturn data[:,:2], data[:, -1]\n",
    "\n",
    "x,y = load_data(\"house_price_data.txt\")"
   ]
  },
  {
   "cell_type": "markdown",
   "id": "5a7529ac-aeae-446f-afeb-c2375632558a",
   "metadata": {
    "tags": []
   },
   "source": [
    "## Question n°2 : Implémenter la fonction h(x)"
   ]
  },
  {
   "cell_type": "markdown",
   "id": "be7b9901-03c9-4644-88bd-0da22e455ae2",
   "metadata": {},
   "source": [
    "Les implémentations des fonctions suivantes sont vectorisées"
   ]
  },
  {
   "cell_type": "markdown",
   "id": "32b1fc7a-dc87-4c77-a2c8-5e1a2aa46ec8",
   "metadata": {},
   "source": [
    "\n",
    "![h(x)](img/vectorized_h.png)\n"
   ]
  },
  {
   "cell_type": "code",
   "execution_count": 35,
   "id": "f48a6429-56e7-44b0-b742-eab97220ea34",
   "metadata": {},
   "outputs": [],
   "source": [
    "## Coder ici\n",
    "def h(theta,x):\n",
    "\treturn x@theta"
   ]
  },
  {
   "cell_type": "code",
   "execution_count": 36,
   "id": "9be092a3-7ee6-4114-a9b5-d85dcf087684",
   "metadata": {},
   "outputs": [],
   "source": [
    "## Test\n",
    "x_test = np.array([[2,3],\n",
    "              [5,6]])\n",
    "theta_test = np.array([2,3])\n",
    "\n",
    "assert (h(theta_test, x_test).round(1) == np.array([13, 28])).all() \n"
   ]
  },
  {
   "cell_type": "markdown",
   "id": "0cf86332-13cc-4998-9962-115c79b1b5c0",
   "metadata": {},
   "source": [
    "## Question n°3 : Implémenter la fonction coût"
   ]
  },
  {
   "cell_type": "markdown",
   "id": "b78d087a-62f4-4f92-8799-a5e0f0fdc4bf",
   "metadata": {},
   "source": [
    "![h(x)](img/cost_function.png)"
   ]
  },
  {
   "cell_type": "code",
   "execution_count": null,
   "id": "b7dbdf2b-3561-426f-b1a0-91bfdaa5b636",
   "metadata": {},
   "outputs": [],
   "source": [
    "## Coder ici\n",
    "def cost_function(x, y, theta):\n",
    "\treturn (1 / (2 * len(y))) * np.transpose((h(theta, x) - y))@(h(theta, x) - y)"
   ]
  },
  {
   "cell_type": "code",
   "execution_count": null,
   "id": "6b1eafb6-00c6-4b08-b63b-79733e7df641",
   "metadata": {},
   "outputs": [],
   "source": [
    "## Test\n",
    "x_test = np.array([[2,3],\n",
    "              [5,6]])\n",
    "\n",
    "y_test = np.array([1,0])\n",
    "\n",
    "theta_test = np.array([2,3])\n",
    "\n",
    "assert(cost_function(x_test, y_test, theta_test).round(2) == 232.0)"
   ]
  },
  {
   "cell_type": "markdown",
   "id": "f26f5a7b-d837-4cfd-99b2-f75f4f458951",
   "metadata": {},
   "source": [
    "## Question n°4 : Implémenter la descente du gradient"
   ]
  },
  {
   "cell_type": "markdown",
   "id": "5df5e830-a105-4dd4-8971-de1d80792e20",
   "metadata": {},
   "source": [
    "Definition epoch :\n",
    "\n",
    "An epoch is a term used in machine learning and indicates the number of passes of the entire training dataset the machine learning algorithm has completed. Datasets are usually grouped into batches (especially when the amount of data is very large). ... Many models are created with more than one epoch"
   ]
  },
  {
   "cell_type": "markdown",
   "id": "6260082a-6612-43d6-9040-ae83bd8424cb",
   "metadata": {},
   "source": [
    "![h(x)](img/vectorized_gradient-descent.png)"
   ]
  },
  {
   "cell_type": "code",
   "execution_count": null,
   "id": "a4bd1093-9fec-4e3f-94c6-cbb7c60cfbbf",
   "metadata": {},
   "outputs": [],
   "source": [
    "def gradient_descent(x, y, theta, learning_rate=0.1, num_epochs=10):\n",
    "\tm = x.shape[0]\n",
    "\tJ_all = []\n",
    "\t\n",
    "\tfor _ in range(num_epochs):\n",
    "\t\th_x = h(theta,x)\n",
    "\t\tcost_ = ____\n",
    "\t\ttheta = theta - (___)*cost_\n",
    "\t\tJ_all.append(cost_function(x, y, theta))\n",
    "\n",
    "\treturn theta, J_all "
   ]
  },
  {
   "cell_type": "code",
   "execution_count": null,
   "id": "ba60a8c7-0e57-49f1-92cd-5fdcf5f55c1b",
   "metadata": {},
   "outputs": [],
   "source": [
    "x_test = np.array([[3,3],\n",
    "              [5,6]])\n",
    "\n",
    "y_test = np.array([0,1])\n",
    "\n",
    "theta_test = np.array([2,3])\n",
    "\n",
    "theta_test, J_all_test = gradient_descent(x_test, y_test, theta_test, learning_rate=0.1, num_epochs=1)\n",
    "\n",
    "assert (theta_test.round(2) == np.array([-7.  , -7.35])).all()\n",
    "\n",
    "\n",
    "assert (J_all_test[0].round(2) == 2067.33)"
   ]
  },
  {
   "cell_type": "markdown",
   "id": "d1af676e-5bc7-4ebe-89a6-1bead33d7fc3",
   "metadata": {},
   "source": [
    "## Tester votre code"
   ]
  },
  {
   "cell_type": "code",
   "execution_count": null,
   "id": "1c2360c7-257b-4897-a7ff-294817b2017b",
   "metadata": {},
   "outputs": [
    {
     "name": "stdout",
     "output_type": "stream",
     "text": [
      "Cost:  [[2.08475311e+09]]\n",
      "Parameters:  [[ 3.37371711e+05]\n",
      " [ 1.04066024e+05]\n",
      " [-6.47874139e+01]]\n"
     ]
    },
    {
     "data": {
      "image/png": "[encoded data removed]",
      "text/plain": [
       "<Figure size 432x288 with 1 Axes>"
      ]
     },
     "metadata": {
      "needs_background": "light"
     },
     "output_type": "display_data"
    },
    {
     "name": "stdout",
     "output_type": "stream",
     "text": [
      "Price of house:  [1.50248496e+08]\n"
     ]
    }
   ],
   "source": [
    "def plot_cost(J_all, num_epochs):\n",
    "\tplt.xlabel('Epochs')\n",
    "\tplt.ylabel('Cost')\n",
    "\tplt.plot(num_epochs, J_all, 'm', linewidth = \"5\")\n",
    "\tplt.show()\n",
    "    \n",
    "    \n",
    "def test(theta, x):\n",
    "\tx[0] = (x[0] - mu[0])/std[0]\n",
    "\tx[1] = (x[1] - mu[1])/std[1]\n",
    "\ty = theta[0] + theta[1]*x[0] + theta[2]*x[1]\n",
    "\tprint(\"Price of house: \", y)\n",
    "    \n",
    "    \n",
    "y = np.reshape(y, (46,1))\n",
    "x = np.hstack((np.ones((x.shape[0],1)), x))\n",
    "theta = np.zeros((x.shape[1], 1))\n",
    "learning_rate = 0.1\n",
    "num_epochs = 50\n",
    "theta, J_all = gradient_descent(x, y, theta, learning_rate, num_epochs)\n",
    "J = cost_function(x, y, theta)\n",
    "print(\"Cost: \", J)\n",
    "print(\"Parameters: \", theta)\n",
    "\n",
    "#for testing and plotting cost \n",
    "n_epochs = []\n",
    "jplot = []\n",
    "count = 0\n",
    "for i in J_all:\n",
    "\tjplot.append(i[0][0])\n",
    "\tn_epochs.append(count)\n",
    "\tcount += 1\n",
    "jplot = np.array(jplot)\n",
    "n_epochs = np.array(n_epochs)\n",
    "plot_cost(jplot, n_epochs)\n",
    "\n",
    "test(theta, [1800, 4])"
   ]
  }
 ],
 "metadata": {
  "kernelspec": {
   "display_name": "Python 3 (ipykernel)",
   "language": "python",
   "name": "python3"
  },
  "language_info": {
   "codemirror_mode": {
    "name": "ipython",
    "version": 3
   },
   "file_extension": ".py",
   "mimetype": "text/x-python",
   "name": "python",
   "nbconvert_exporter": "python",
   "pygments_lexer": "ipython3",
   "version": "3.8.10"
  }
 },
 "nbformat": 4,
 "nbformat_minor": 5
}
